{
 "cells": [
  {
   "cell_type": "code",
   "execution_count": 126,
   "metadata": {},
   "outputs": [],
   "source": [
    "import pandas as pd"
   ]
  },
  {
   "cell_type": "code",
   "execution_count": 183,
   "metadata": {},
   "outputs": [],
   "source": [
    "%run spotipy.ipynb"
   ]
  },
  {
   "attachments": {},
   "cell_type": "markdown",
   "metadata": {},
   "source": [
    "# Kaggle Auth"
   ]
  },
  {
   "cell_type": "code",
   "execution_count": 2,
   "metadata": {},
   "outputs": [],
   "source": [
    "\n",
    "# kaggle.api.authenticate()\n",
    "\n",
    "# kaggle.api.dataset_download_files('The_name_of_the_dataset', path='the_path_you_want_to_download_the_files_to', unzip=True)"
   ]
  },
  {
   "attachments": {},
   "cell_type": "markdown",
   "metadata": {},
   "source": [
    "# Datasets"
   ]
  },
  {
   "attachments": {},
   "cell_type": "markdown",
   "metadata": {},
   "source": [
    "## Tracks\n",
    "https://www.kaggle.com/datasets/yamaerenay/spotify-dataset-19212020-600k-tracks?resource=download&select=tracks.csv"
   ]
  },
  {
   "cell_type": "code",
   "execution_count": 105,
   "metadata": {},
   "outputs": [],
   "source": [
    "tracks = pd.read_csv('../data/tracks.csv')"
   ]
  },
  {
   "cell_type": "code",
   "execution_count": 106,
   "metadata": {},
   "outputs": [],
   "source": [
    "tracks = tracks.dropna()"
   ]
  },
  {
   "cell_type": "code",
   "execution_count": 141,
   "metadata": {},
   "outputs": [
    {
     "name": "stdout",
     "output_type": "stream",
     "text": [
      "<class 'pandas.core.frame.DataFrame'>\n",
      "Int64Index: 586601 entries, 0 to 586671\n",
      "Data columns (total 21 columns):\n",
      " #   Column            Non-Null Count   Dtype  \n",
      "---  ------            --------------   -----  \n",
      " 0   id                586601 non-null  object \n",
      " 1   name              586601 non-null  object \n",
      " 2   popularity        586601 non-null  int64  \n",
      " 3   duration_ms       586601 non-null  int64  \n",
      " 4   explicit          586601 non-null  int64  \n",
      " 5   artists           586601 non-null  object \n",
      " 6   id_artists        586601 non-null  object \n",
      " 7   release_date      586601 non-null  object \n",
      " 8   danceability      586601 non-null  float64\n",
      " 9   energy            586601 non-null  float64\n",
      " 10  key               586601 non-null  int64  \n",
      " 11  loudness          586601 non-null  float64\n",
      " 12  mode              586601 non-null  int64  \n",
      " 13  speechiness       586601 non-null  float64\n",
      " 14  acousticness      586601 non-null  float64\n",
      " 15  instrumentalness  586601 non-null  float64\n",
      " 16  liveness          586601 non-null  float64\n",
      " 17  valence           586601 non-null  float64\n",
      " 18  tempo             586601 non-null  float64\n",
      " 19  time_signature    586601 non-null  int64  \n",
      " 20  n_cluster         586601 non-null  int32  \n",
      "dtypes: float64(9), int32(1), int64(6), object(5)\n",
      "memory usage: 96.2+ MB\n"
     ]
    }
   ],
   "source": [
    "tracks.info()"
   ]
  },
  {
   "attachments": {},
   "cell_type": "markdown",
   "metadata": {},
   "source": [
    "## Charts\n",
    "https://www.kaggle.com/datasets/jfreyberg/spotify-chart-data"
   ]
  },
  {
   "cell_type": "code",
   "execution_count": 130,
   "metadata": {},
   "outputs": [],
   "source": [
    "charts = pd.read_csv('../data/charts.csv')"
   ]
  },
  {
   "cell_type": "code",
   "execution_count": 139,
   "metadata": {},
   "outputs": [],
   "source": [
    "charts = charts.dropna()"
   ]
  },
  {
   "cell_type": "code",
   "execution_count": 14,
   "metadata": {},
   "outputs": [
    {
     "name": "stdout",
     "output_type": "stream",
     "text": [
      "<class 'pandas.core.frame.DataFrame'>\n",
      "RangeIndex: 5428021 entries, 0 to 5428020\n",
      "Data columns (total 10 columns):\n",
      " #   Column         Dtype \n",
      "---  ------         ----- \n",
      " 0   date           object\n",
      " 1   country        object\n",
      " 2   position       int64 \n",
      " 3   streams        int64 \n",
      " 4   track_id       object\n",
      " 5   artists        object\n",
      " 6   artist_genres  object\n",
      " 7   duration       int64 \n",
      " 8   explicit       bool  \n",
      " 9   name           object\n",
      "dtypes: bool(1), int64(3), object(6)\n",
      "memory usage: 377.9+ MB\n"
     ]
    }
   ],
   "source": [
    "charts.info()"
   ]
  },
  {
   "attachments": {},
   "cell_type": "markdown",
   "metadata": {},
   "source": [
    "## Artists"
   ]
  },
  {
   "cell_type": "code",
   "execution_count": 142,
   "metadata": {},
   "outputs": [],
   "source": [
    "artists = pd.read_csv('../data/artists.csv')"
   ]
  },
  {
   "cell_type": "code",
   "execution_count": 143,
   "metadata": {},
   "outputs": [],
   "source": [
    "artists = artists.dropna()"
   ]
  },
  {
   "cell_type": "code",
   "execution_count": 144,
   "metadata": {},
   "outputs": [
    {
     "name": "stdout",
     "output_type": "stream",
     "text": [
      "<class 'pandas.core.frame.DataFrame'>\n",
      "Int64Index: 1104336 entries, 0 to 1104348\n",
      "Data columns (total 5 columns):\n",
      " #   Column      Non-Null Count    Dtype  \n",
      "---  ------      --------------    -----  \n",
      " 0   id          1104336 non-null  object \n",
      " 1   followers   1104336 non-null  float64\n",
      " 2   genres      1104336 non-null  object \n",
      " 3   name        1104336 non-null  object \n",
      " 4   popularity  1104336 non-null  int64  \n",
      "dtypes: float64(1), int64(1), object(3)\n",
      "memory usage: 50.6+ MB\n"
     ]
    }
   ],
   "source": [
    "artists.info()"
   ]
  },
  {
   "attachments": {},
   "cell_type": "markdown",
   "metadata": {},
   "source": [
    "# Clusterização"
   ]
  },
  {
   "cell_type": "code",
   "execution_count": 107,
   "metadata": {},
   "outputs": [
    {
     "data": {
      "text/html": [
       "<div>\n",
       "<style scoped>\n",
       "    .dataframe tbody tr th:only-of-type {\n",
       "        vertical-align: middle;\n",
       "    }\n",
       "\n",
       "    .dataframe tbody tr th {\n",
       "        vertical-align: top;\n",
       "    }\n",
       "\n",
       "    .dataframe thead th {\n",
       "        text-align: right;\n",
       "    }\n",
       "</style>\n",
       "<table border=\"1\" class=\"dataframe\">\n",
       "  <thead>\n",
       "    <tr style=\"text-align: right;\">\n",
       "      <th></th>\n",
       "      <th>id</th>\n",
       "      <th>name</th>\n",
       "      <th>popularity</th>\n",
       "      <th>duration_ms</th>\n",
       "      <th>explicit</th>\n",
       "      <th>artists</th>\n",
       "      <th>id_artists</th>\n",
       "      <th>release_date</th>\n",
       "      <th>danceability</th>\n",
       "      <th>energy</th>\n",
       "      <th>key</th>\n",
       "      <th>loudness</th>\n",
       "      <th>mode</th>\n",
       "      <th>speechiness</th>\n",
       "      <th>acousticness</th>\n",
       "      <th>instrumentalness</th>\n",
       "      <th>liveness</th>\n",
       "      <th>valence</th>\n",
       "      <th>tempo</th>\n",
       "      <th>time_signature</th>\n",
       "    </tr>\n",
       "  </thead>\n",
       "  <tbody>\n",
       "    <tr>\n",
       "      <th>93802</th>\n",
       "      <td>4iJyoBOLtHqaGxP12qzhQI</td>\n",
       "      <td>Peaches (feat. Daniel Caesar &amp; Giveon)</td>\n",
       "      <td>100</td>\n",
       "      <td>198082</td>\n",
       "      <td>1</td>\n",
       "      <td>['Justin Bieber', 'Daniel Caesar', 'Giveon']</td>\n",
       "      <td>['1uNFoZAHBGtllmzznpCI3s', '20wkVLutqVOYrc0kxF...</td>\n",
       "      <td>2021-03-19</td>\n",
       "      <td>0.677</td>\n",
       "      <td>0.696</td>\n",
       "      <td>0</td>\n",
       "      <td>-6.181</td>\n",
       "      <td>1</td>\n",
       "      <td>0.1190</td>\n",
       "      <td>0.3210</td>\n",
       "      <td>0.000000</td>\n",
       "      <td>0.420</td>\n",
       "      <td>0.464</td>\n",
       "      <td>90.030</td>\n",
       "      <td>4</td>\n",
       "    </tr>\n",
       "    <tr>\n",
       "      <th>93803</th>\n",
       "      <td>7lPN2DXiMsVn7XUKtOW1CS</td>\n",
       "      <td>drivers license</td>\n",
       "      <td>99</td>\n",
       "      <td>242014</td>\n",
       "      <td>1</td>\n",
       "      <td>['Olivia Rodrigo']</td>\n",
       "      <td>['1McMsnEElThX1knmY4oliG']</td>\n",
       "      <td>2021-01-08</td>\n",
       "      <td>0.585</td>\n",
       "      <td>0.436</td>\n",
       "      <td>10</td>\n",
       "      <td>-8.761</td>\n",
       "      <td>1</td>\n",
       "      <td>0.0601</td>\n",
       "      <td>0.7210</td>\n",
       "      <td>0.000013</td>\n",
       "      <td>0.105</td>\n",
       "      <td>0.132</td>\n",
       "      <td>143.874</td>\n",
       "      <td>4</td>\n",
       "    </tr>\n",
       "    <tr>\n",
       "      <th>93804</th>\n",
       "      <td>3Ofmpyhv5UAQ70mENzB277</td>\n",
       "      <td>Astronaut In The Ocean</td>\n",
       "      <td>98</td>\n",
       "      <td>132780</td>\n",
       "      <td>0</td>\n",
       "      <td>['Masked Wolf']</td>\n",
       "      <td>['1uU7g3DNSbsu0QjSEqZtEd']</td>\n",
       "      <td>2021-01-06</td>\n",
       "      <td>0.778</td>\n",
       "      <td>0.695</td>\n",
       "      <td>4</td>\n",
       "      <td>-6.865</td>\n",
       "      <td>0</td>\n",
       "      <td>0.0913</td>\n",
       "      <td>0.1750</td>\n",
       "      <td>0.000000</td>\n",
       "      <td>0.150</td>\n",
       "      <td>0.472</td>\n",
       "      <td>149.996</td>\n",
       "      <td>4</td>\n",
       "    </tr>\n",
       "    <tr>\n",
       "      <th>92811</th>\n",
       "      <td>6tDDoYIxWvMLTdKpjFkc1B</td>\n",
       "      <td>telepatía</td>\n",
       "      <td>97</td>\n",
       "      <td>160191</td>\n",
       "      <td>0</td>\n",
       "      <td>['Kali Uchis']</td>\n",
       "      <td>['1U1el3k54VvEUzo3ybLPlM']</td>\n",
       "      <td>2020-12-04</td>\n",
       "      <td>0.653</td>\n",
       "      <td>0.524</td>\n",
       "      <td>11</td>\n",
       "      <td>-9.016</td>\n",
       "      <td>0</td>\n",
       "      <td>0.0502</td>\n",
       "      <td>0.1120</td>\n",
       "      <td>0.000000</td>\n",
       "      <td>0.203</td>\n",
       "      <td>0.553</td>\n",
       "      <td>83.970</td>\n",
       "      <td>4</td>\n",
       "    </tr>\n",
       "    <tr>\n",
       "      <th>92810</th>\n",
       "      <td>5QO79kh1waicV47BqGRL3g</td>\n",
       "      <td>Save Your Tears</td>\n",
       "      <td>97</td>\n",
       "      <td>215627</td>\n",
       "      <td>1</td>\n",
       "      <td>['The Weeknd']</td>\n",
       "      <td>['1Xyo4u8uXC1ZmMpatF05PJ']</td>\n",
       "      <td>2020-03-20</td>\n",
       "      <td>0.680</td>\n",
       "      <td>0.826</td>\n",
       "      <td>0</td>\n",
       "      <td>-5.487</td>\n",
       "      <td>1</td>\n",
       "      <td>0.0309</td>\n",
       "      <td>0.0212</td>\n",
       "      <td>0.000012</td>\n",
       "      <td>0.543</td>\n",
       "      <td>0.644</td>\n",
       "      <td>118.051</td>\n",
       "      <td>4</td>\n",
       "    </tr>\n",
       "  </tbody>\n",
       "</table>\n",
       "</div>"
      ],
      "text/plain": [
       "                           id                                    name  \\\n",
       "93802  4iJyoBOLtHqaGxP12qzhQI  Peaches (feat. Daniel Caesar & Giveon)   \n",
       "93803  7lPN2DXiMsVn7XUKtOW1CS                         drivers license   \n",
       "93804  3Ofmpyhv5UAQ70mENzB277                  Astronaut In The Ocean   \n",
       "92811  6tDDoYIxWvMLTdKpjFkc1B                               telepatía   \n",
       "92810  5QO79kh1waicV47BqGRL3g                         Save Your Tears   \n",
       "\n",
       "       popularity  duration_ms  explicit  \\\n",
       "93802         100       198082         1   \n",
       "93803          99       242014         1   \n",
       "93804          98       132780         0   \n",
       "92811          97       160191         0   \n",
       "92810          97       215627         1   \n",
       "\n",
       "                                            artists  \\\n",
       "93802  ['Justin Bieber', 'Daniel Caesar', 'Giveon']   \n",
       "93803                            ['Olivia Rodrigo']   \n",
       "93804                               ['Masked Wolf']   \n",
       "92811                                ['Kali Uchis']   \n",
       "92810                                ['The Weeknd']   \n",
       "\n",
       "                                              id_artists release_date  \\\n",
       "93802  ['1uNFoZAHBGtllmzznpCI3s', '20wkVLutqVOYrc0kxF...   2021-03-19   \n",
       "93803                         ['1McMsnEElThX1knmY4oliG']   2021-01-08   \n",
       "93804                         ['1uU7g3DNSbsu0QjSEqZtEd']   2021-01-06   \n",
       "92811                         ['1U1el3k54VvEUzo3ybLPlM']   2020-12-04   \n",
       "92810                         ['1Xyo4u8uXC1ZmMpatF05PJ']   2020-03-20   \n",
       "\n",
       "       danceability  energy  key  loudness  mode  speechiness  acousticness  \\\n",
       "93802         0.677   0.696    0    -6.181     1       0.1190        0.3210   \n",
       "93803         0.585   0.436   10    -8.761     1       0.0601        0.7210   \n",
       "93804         0.778   0.695    4    -6.865     0       0.0913        0.1750   \n",
       "92811         0.653   0.524   11    -9.016     0       0.0502        0.1120   \n",
       "92810         0.680   0.826    0    -5.487     1       0.0309        0.0212   \n",
       "\n",
       "       instrumentalness  liveness  valence    tempo  time_signature  \n",
       "93802          0.000000     0.420    0.464   90.030               4  \n",
       "93803          0.000013     0.105    0.132  143.874               4  \n",
       "93804          0.000000     0.150    0.472  149.996               4  \n",
       "92811          0.000000     0.203    0.553   83.970               4  \n",
       "92810          0.000012     0.543    0.644  118.051               4  "
      ]
     },
     "execution_count": 107,
     "metadata": {},
     "output_type": "execute_result"
    }
   ],
   "source": [
    "tracks.sort_values('popularity', ascending=False).head()"
   ]
  },
  {
   "cell_type": "code",
   "execution_count": 108,
   "metadata": {},
   "outputs": [],
   "source": [
    "data_dropped = tracks.drop(columns=['id', 'name', 'artists', 'id_artists', 'release_date', 'popularity'])"
   ]
  },
  {
   "cell_type": "code",
   "execution_count": 109,
   "metadata": {},
   "outputs": [],
   "source": [
    "from sklearn.preprocessing import MinMaxScaler\n",
    "\n",
    "scaler = MinMaxScaler()\n",
    "\n",
    "norm_data = scaler.fit_transform(data_dropped.values)"
   ]
  },
  {
   "cell_type": "code",
   "execution_count": 110,
   "metadata": {},
   "outputs": [],
   "source": [
    "import numpy as np\n",
    "from sklearn.decomposition import PCA\n",
    "\n",
    "data_pca = PCA(n_components=3).fit_transform(norm_data)"
   ]
  },
  {
   "cell_type": "code",
   "execution_count": 111,
   "metadata": {},
   "outputs": [],
   "source": [
    "from sklearn.cluster import KMeans\n",
    "\n",
    "kmeans = KMeans(init=\"k-means++\", n_clusters=60, n_init=4)\n",
    "kmeans.fit(data_pca)\n",
    "tracks['n_cluster'] = kmeans.labels_"
   ]
  },
  {
   "cell_type": "code",
   "execution_count": 112,
   "metadata": {},
   "outputs": [
    {
     "data": {
      "text/html": [
       "<div>\n",
       "<style scoped>\n",
       "    .dataframe tbody tr th:only-of-type {\n",
       "        vertical-align: middle;\n",
       "    }\n",
       "\n",
       "    .dataframe tbody tr th {\n",
       "        vertical-align: top;\n",
       "    }\n",
       "\n",
       "    .dataframe thead th {\n",
       "        text-align: right;\n",
       "    }\n",
       "</style>\n",
       "<table border=\"1\" class=\"dataframe\">\n",
       "  <thead>\n",
       "    <tr style=\"text-align: right;\">\n",
       "      <th></th>\n",
       "      <th>id</th>\n",
       "      <th>name</th>\n",
       "      <th>popularity</th>\n",
       "      <th>duration_ms</th>\n",
       "      <th>explicit</th>\n",
       "      <th>artists</th>\n",
       "      <th>id_artists</th>\n",
       "      <th>release_date</th>\n",
       "      <th>danceability</th>\n",
       "      <th>energy</th>\n",
       "      <th>...</th>\n",
       "      <th>loudness</th>\n",
       "      <th>mode</th>\n",
       "      <th>speechiness</th>\n",
       "      <th>acousticness</th>\n",
       "      <th>instrumentalness</th>\n",
       "      <th>liveness</th>\n",
       "      <th>valence</th>\n",
       "      <th>tempo</th>\n",
       "      <th>time_signature</th>\n",
       "      <th>n_cluster</th>\n",
       "    </tr>\n",
       "  </thead>\n",
       "  <tbody>\n",
       "    <tr>\n",
       "      <th>0</th>\n",
       "      <td>35iwgR4jXetI318WEWsa1Q</td>\n",
       "      <td>Carve</td>\n",
       "      <td>6</td>\n",
       "      <td>126903</td>\n",
       "      <td>0</td>\n",
       "      <td>['Uli']</td>\n",
       "      <td>['45tIt06XoI0Iio4LBEVpls']</td>\n",
       "      <td>1922-02-22</td>\n",
       "      <td>0.645</td>\n",
       "      <td>0.4450</td>\n",
       "      <td>...</td>\n",
       "      <td>-13.338</td>\n",
       "      <td>1</td>\n",
       "      <td>0.4510</td>\n",
       "      <td>0.674</td>\n",
       "      <td>0.744000</td>\n",
       "      <td>0.1510</td>\n",
       "      <td>0.1270</td>\n",
       "      <td>104.851</td>\n",
       "      <td>3</td>\n",
       "      <td>4</td>\n",
       "    </tr>\n",
       "    <tr>\n",
       "      <th>1</th>\n",
       "      <td>021ht4sdgPcrDgSk7JTbKY</td>\n",
       "      <td>Capítulo 2.16 - Banquero Anarquista</td>\n",
       "      <td>0</td>\n",
       "      <td>98200</td>\n",
       "      <td>0</td>\n",
       "      <td>['Fernando Pessoa']</td>\n",
       "      <td>['14jtPCOoNZwquk5wd9DxrY']</td>\n",
       "      <td>1922-06-01</td>\n",
       "      <td>0.695</td>\n",
       "      <td>0.2630</td>\n",
       "      <td>...</td>\n",
       "      <td>-22.136</td>\n",
       "      <td>1</td>\n",
       "      <td>0.9570</td>\n",
       "      <td>0.797</td>\n",
       "      <td>0.000000</td>\n",
       "      <td>0.1480</td>\n",
       "      <td>0.6550</td>\n",
       "      <td>102.009</td>\n",
       "      <td>1</td>\n",
       "      <td>4</td>\n",
       "    </tr>\n",
       "    <tr>\n",
       "      <th>2</th>\n",
       "      <td>07A5yehtSnoedViJAZkNnc</td>\n",
       "      <td>Vivo para Quererte - Remasterizado</td>\n",
       "      <td>0</td>\n",
       "      <td>181640</td>\n",
       "      <td>0</td>\n",
       "      <td>['Ignacio Corsini']</td>\n",
       "      <td>['5LiOoJbxVSAMkBS2fUm3X2']</td>\n",
       "      <td>1922-03-21</td>\n",
       "      <td>0.434</td>\n",
       "      <td>0.1770</td>\n",
       "      <td>...</td>\n",
       "      <td>-21.180</td>\n",
       "      <td>1</td>\n",
       "      <td>0.0512</td>\n",
       "      <td>0.994</td>\n",
       "      <td>0.021800</td>\n",
       "      <td>0.2120</td>\n",
       "      <td>0.4570</td>\n",
       "      <td>130.418</td>\n",
       "      <td>5</td>\n",
       "      <td>37</td>\n",
       "    </tr>\n",
       "    <tr>\n",
       "      <th>3</th>\n",
       "      <td>08FmqUhxtyLTn6pAh6bk45</td>\n",
       "      <td>El Prisionero - Remasterizado</td>\n",
       "      <td>0</td>\n",
       "      <td>176907</td>\n",
       "      <td>0</td>\n",
       "      <td>['Ignacio Corsini']</td>\n",
       "      <td>['5LiOoJbxVSAMkBS2fUm3X2']</td>\n",
       "      <td>1922-03-21</td>\n",
       "      <td>0.321</td>\n",
       "      <td>0.0946</td>\n",
       "      <td>...</td>\n",
       "      <td>-27.961</td>\n",
       "      <td>1</td>\n",
       "      <td>0.0504</td>\n",
       "      <td>0.995</td>\n",
       "      <td>0.918000</td>\n",
       "      <td>0.1040</td>\n",
       "      <td>0.3970</td>\n",
       "      <td>169.980</td>\n",
       "      <td>3</td>\n",
       "      <td>52</td>\n",
       "    </tr>\n",
       "    <tr>\n",
       "      <th>4</th>\n",
       "      <td>08y9GfoqCWfOGsKdwojr5e</td>\n",
       "      <td>Lady of the Evening</td>\n",
       "      <td>0</td>\n",
       "      <td>163080</td>\n",
       "      <td>0</td>\n",
       "      <td>['Dick Haymes']</td>\n",
       "      <td>['3BiJGZsyX9sJchTqcSA7Su']</td>\n",
       "      <td>1922</td>\n",
       "      <td>0.402</td>\n",
       "      <td>0.1580</td>\n",
       "      <td>...</td>\n",
       "      <td>-16.900</td>\n",
       "      <td>0</td>\n",
       "      <td>0.0390</td>\n",
       "      <td>0.989</td>\n",
       "      <td>0.130000</td>\n",
       "      <td>0.3110</td>\n",
       "      <td>0.1960</td>\n",
       "      <td>103.220</td>\n",
       "      <td>4</td>\n",
       "      <td>6</td>\n",
       "    </tr>\n",
       "    <tr>\n",
       "      <th>...</th>\n",
       "      <td>...</td>\n",
       "      <td>...</td>\n",
       "      <td>...</td>\n",
       "      <td>...</td>\n",
       "      <td>...</td>\n",
       "      <td>...</td>\n",
       "      <td>...</td>\n",
       "      <td>...</td>\n",
       "      <td>...</td>\n",
       "      <td>...</td>\n",
       "      <td>...</td>\n",
       "      <td>...</td>\n",
       "      <td>...</td>\n",
       "      <td>...</td>\n",
       "      <td>...</td>\n",
       "      <td>...</td>\n",
       "      <td>...</td>\n",
       "      <td>...</td>\n",
       "      <td>...</td>\n",
       "      <td>...</td>\n",
       "      <td>...</td>\n",
       "    </tr>\n",
       "    <tr>\n",
       "      <th>586667</th>\n",
       "      <td>5rgu12WBIHQtvej2MdHSH0</td>\n",
       "      <td>云与海</td>\n",
       "      <td>50</td>\n",
       "      <td>258267</td>\n",
       "      <td>0</td>\n",
       "      <td>['阿YueYue']</td>\n",
       "      <td>['1QLBXKM5GCpyQQSVMNZqrZ']</td>\n",
       "      <td>2020-09-26</td>\n",
       "      <td>0.560</td>\n",
       "      <td>0.5180</td>\n",
       "      <td>...</td>\n",
       "      <td>-7.471</td>\n",
       "      <td>0</td>\n",
       "      <td>0.0292</td>\n",
       "      <td>0.785</td>\n",
       "      <td>0.000000</td>\n",
       "      <td>0.0648</td>\n",
       "      <td>0.2110</td>\n",
       "      <td>131.896</td>\n",
       "      <td>4</td>\n",
       "      <td>49</td>\n",
       "    </tr>\n",
       "    <tr>\n",
       "      <th>586668</th>\n",
       "      <td>0NuWgxEp51CutD2pJoF4OM</td>\n",
       "      <td>blind</td>\n",
       "      <td>72</td>\n",
       "      <td>153293</td>\n",
       "      <td>0</td>\n",
       "      <td>['ROLE MODEL']</td>\n",
       "      <td>['1dy5WNgIKQU6ezkpZs4y8z']</td>\n",
       "      <td>2020-10-21</td>\n",
       "      <td>0.765</td>\n",
       "      <td>0.6630</td>\n",
       "      <td>...</td>\n",
       "      <td>-5.223</td>\n",
       "      <td>1</td>\n",
       "      <td>0.0652</td>\n",
       "      <td>0.141</td>\n",
       "      <td>0.000297</td>\n",
       "      <td>0.0924</td>\n",
       "      <td>0.6860</td>\n",
       "      <td>150.091</td>\n",
       "      <td>4</td>\n",
       "      <td>7</td>\n",
       "    </tr>\n",
       "    <tr>\n",
       "      <th>586669</th>\n",
       "      <td>27Y1N4Q4U3EfDU5Ubw8ws2</td>\n",
       "      <td>What They'll Say About Us</td>\n",
       "      <td>70</td>\n",
       "      <td>187601</td>\n",
       "      <td>0</td>\n",
       "      <td>['FINNEAS']</td>\n",
       "      <td>['37M5pPGs6V1fchFJSgCguX']</td>\n",
       "      <td>2020-09-02</td>\n",
       "      <td>0.535</td>\n",
       "      <td>0.3140</td>\n",
       "      <td>...</td>\n",
       "      <td>-12.823</td>\n",
       "      <td>0</td>\n",
       "      <td>0.0408</td>\n",
       "      <td>0.895</td>\n",
       "      <td>0.000150</td>\n",
       "      <td>0.0874</td>\n",
       "      <td>0.0663</td>\n",
       "      <td>145.095</td>\n",
       "      <td>4</td>\n",
       "      <td>48</td>\n",
       "    </tr>\n",
       "    <tr>\n",
       "      <th>586670</th>\n",
       "      <td>45XJsGpFTyzbzeWK8VzR8S</td>\n",
       "      <td>A Day At A Time</td>\n",
       "      <td>58</td>\n",
       "      <td>142003</td>\n",
       "      <td>0</td>\n",
       "      <td>['Gentle Bones', 'Clara Benin']</td>\n",
       "      <td>['4jGPdu95icCKVF31CcFKbS', '5ebPSE9YI5aLeZ1Z2g...</td>\n",
       "      <td>2021-03-05</td>\n",
       "      <td>0.696</td>\n",
       "      <td>0.6150</td>\n",
       "      <td>...</td>\n",
       "      <td>-6.212</td>\n",
       "      <td>1</td>\n",
       "      <td>0.0345</td>\n",
       "      <td>0.206</td>\n",
       "      <td>0.000003</td>\n",
       "      <td>0.3050</td>\n",
       "      <td>0.4380</td>\n",
       "      <td>90.029</td>\n",
       "      <td>4</td>\n",
       "      <td>9</td>\n",
       "    </tr>\n",
       "    <tr>\n",
       "      <th>586671</th>\n",
       "      <td>5Ocn6dZ3BJFPWh4ylwFXtn</td>\n",
       "      <td>Mar de Emociones</td>\n",
       "      <td>38</td>\n",
       "      <td>214360</td>\n",
       "      <td>0</td>\n",
       "      <td>['Afrosound']</td>\n",
       "      <td>['0i4Qda0k4nf7jnNHmSNpYv']</td>\n",
       "      <td>2015-07-01</td>\n",
       "      <td>0.686</td>\n",
       "      <td>0.7230</td>\n",
       "      <td>...</td>\n",
       "      <td>-7.067</td>\n",
       "      <td>1</td>\n",
       "      <td>0.0363</td>\n",
       "      <td>0.105</td>\n",
       "      <td>0.000000</td>\n",
       "      <td>0.2640</td>\n",
       "      <td>0.9750</td>\n",
       "      <td>112.204</td>\n",
       "      <td>4</td>\n",
       "      <td>51</td>\n",
       "    </tr>\n",
       "  </tbody>\n",
       "</table>\n",
       "<p>586601 rows × 21 columns</p>\n",
       "</div>"
      ],
      "text/plain": [
       "                            id                                 name  \\\n",
       "0       35iwgR4jXetI318WEWsa1Q                                Carve   \n",
       "1       021ht4sdgPcrDgSk7JTbKY  Capítulo 2.16 - Banquero Anarquista   \n",
       "2       07A5yehtSnoedViJAZkNnc   Vivo para Quererte - Remasterizado   \n",
       "3       08FmqUhxtyLTn6pAh6bk45        El Prisionero - Remasterizado   \n",
       "4       08y9GfoqCWfOGsKdwojr5e                  Lady of the Evening   \n",
       "...                        ...                                  ...   \n",
       "586667  5rgu12WBIHQtvej2MdHSH0                                  云与海   \n",
       "586668  0NuWgxEp51CutD2pJoF4OM                                blind   \n",
       "586669  27Y1N4Q4U3EfDU5Ubw8ws2            What They'll Say About Us   \n",
       "586670  45XJsGpFTyzbzeWK8VzR8S                      A Day At A Time   \n",
       "586671  5Ocn6dZ3BJFPWh4ylwFXtn                     Mar de Emociones   \n",
       "\n",
       "        popularity  duration_ms  explicit                          artists  \\\n",
       "0                6       126903         0                          ['Uli']   \n",
       "1                0        98200         0              ['Fernando Pessoa']   \n",
       "2                0       181640         0              ['Ignacio Corsini']   \n",
       "3                0       176907         0              ['Ignacio Corsini']   \n",
       "4                0       163080         0                  ['Dick Haymes']   \n",
       "...            ...          ...       ...                              ...   \n",
       "586667          50       258267         0                      ['阿YueYue']   \n",
       "586668          72       153293         0                   ['ROLE MODEL']   \n",
       "586669          70       187601         0                      ['FINNEAS']   \n",
       "586670          58       142003         0  ['Gentle Bones', 'Clara Benin']   \n",
       "586671          38       214360         0                    ['Afrosound']   \n",
       "\n",
       "                                               id_artists release_date  \\\n",
       "0                              ['45tIt06XoI0Iio4LBEVpls']   1922-02-22   \n",
       "1                              ['14jtPCOoNZwquk5wd9DxrY']   1922-06-01   \n",
       "2                              ['5LiOoJbxVSAMkBS2fUm3X2']   1922-03-21   \n",
       "3                              ['5LiOoJbxVSAMkBS2fUm3X2']   1922-03-21   \n",
       "4                              ['3BiJGZsyX9sJchTqcSA7Su']         1922   \n",
       "...                                                   ...          ...   \n",
       "586667                         ['1QLBXKM5GCpyQQSVMNZqrZ']   2020-09-26   \n",
       "586668                         ['1dy5WNgIKQU6ezkpZs4y8z']   2020-10-21   \n",
       "586669                         ['37M5pPGs6V1fchFJSgCguX']   2020-09-02   \n",
       "586670  ['4jGPdu95icCKVF31CcFKbS', '5ebPSE9YI5aLeZ1Z2g...   2021-03-05   \n",
       "586671                         ['0i4Qda0k4nf7jnNHmSNpYv']   2015-07-01   \n",
       "\n",
       "        danceability  energy  ...  loudness  mode  speechiness  acousticness  \\\n",
       "0              0.645  0.4450  ...   -13.338     1       0.4510         0.674   \n",
       "1              0.695  0.2630  ...   -22.136     1       0.9570         0.797   \n",
       "2              0.434  0.1770  ...   -21.180     1       0.0512         0.994   \n",
       "3              0.321  0.0946  ...   -27.961     1       0.0504         0.995   \n",
       "4              0.402  0.1580  ...   -16.900     0       0.0390         0.989   \n",
       "...              ...     ...  ...       ...   ...          ...           ...   \n",
       "586667         0.560  0.5180  ...    -7.471     0       0.0292         0.785   \n",
       "586668         0.765  0.6630  ...    -5.223     1       0.0652         0.141   \n",
       "586669         0.535  0.3140  ...   -12.823     0       0.0408         0.895   \n",
       "586670         0.696  0.6150  ...    -6.212     1       0.0345         0.206   \n",
       "586671         0.686  0.7230  ...    -7.067     1       0.0363         0.105   \n",
       "\n",
       "        instrumentalness  liveness  valence    tempo  time_signature  \\\n",
       "0               0.744000    0.1510   0.1270  104.851               3   \n",
       "1               0.000000    0.1480   0.6550  102.009               1   \n",
       "2               0.021800    0.2120   0.4570  130.418               5   \n",
       "3               0.918000    0.1040   0.3970  169.980               3   \n",
       "4               0.130000    0.3110   0.1960  103.220               4   \n",
       "...                  ...       ...      ...      ...             ...   \n",
       "586667          0.000000    0.0648   0.2110  131.896               4   \n",
       "586668          0.000297    0.0924   0.6860  150.091               4   \n",
       "586669          0.000150    0.0874   0.0663  145.095               4   \n",
       "586670          0.000003    0.3050   0.4380   90.029               4   \n",
       "586671          0.000000    0.2640   0.9750  112.204               4   \n",
       "\n",
       "        n_cluster  \n",
       "0               4  \n",
       "1               4  \n",
       "2              37  \n",
       "3              52  \n",
       "4               6  \n",
       "...           ...  \n",
       "586667         49  \n",
       "586668          7  \n",
       "586669         48  \n",
       "586670          9  \n",
       "586671         51  \n",
       "\n",
       "[586601 rows x 21 columns]"
      ]
     },
     "execution_count": 112,
     "metadata": {},
     "output_type": "execute_result"
    }
   ],
   "source": [
    "tracks"
   ]
  },
  {
   "cell_type": "code",
   "execution_count": 113,
   "metadata": {},
   "outputs": [
    {
     "data": {
      "image/png": "[encoded data removed]",
      "text/plain": [
       "<Figure size 640x480 with 1 Axes>"
      ]
     },
     "metadata": {},
     "output_type": "display_data"
    }
   ],
   "source": [
    "import seaborn as sns\n",
    "\n",
    "fig = sns.histplot(data=tracks, x=\"n_cluster\")"
   ]
  },
  {
   "cell_type": "code",
   "execution_count": 102,
   "metadata": {},
   "outputs": [
    {
     "data": {
      "image/png": "[encoded data removed]",
      "text/plain": [
       "<Figure size 640x480 with 1 Axes>"
      ]
     },
     "metadata": {},
     "output_type": "display_data"
    }
   ],
   "source": [
    "import seaborn as sns\n",
    "\n",
    "fig = sns.histplot(data=tracks, x=\"n_cluster\")"
   ]
  },
  {
   "cell_type": "markdown",
   "metadata": {},
   "source": [
    "# History"
   ]
  },
  {
   "attachments": {},
   "cell_type": "markdown",
   "metadata": {},
   "source": [
    "## Long History"
   ]
  },
  {
   "cell_type": "code",
   "execution_count": 148,
   "metadata": {},
   "outputs": [],
   "source": [
    "from itertools import count\n",
    "\n",
    "# Lendo todos os arquivos relacionados ao histórico de longo prazo\n",
    "\n",
    "history_group = []\n",
    "\n",
    "x = 1\n",
    "while(x):\n",
    "    try:\n",
    "        history_group.append(pd.read_json('../data/StreamingHistory'+ str(x-1) +'.json'))\n",
    "        x += 1\n",
    "    except FileNotFoundError:\n",
    "        break\n",
    "\n",
    "long_history_df = pd.concat(history_group)"
   ]
  },
  {
   "cell_type": "code",
   "execution_count": 149,
   "metadata": {},
   "outputs": [],
   "source": [
    "# Dropando músicas tocadas por menos de 30 segundos\n",
    "\n",
    "long_history = (\n",
    "    long_history_df[long_history_df['msPlayed']>=30000]\n",
    "    .sort_values(by='endTime', ascending=True)\n",
    "    .reset_index()\n",
    "    )"
   ]
  },
  {
   "cell_type": "code",
   "execution_count": 150,
   "metadata": {},
   "outputs": [
    {
     "data": {
      "text/plain": [
       "trackName\n",
       "Snuff                                     89\n",
       "Vermilion, Pt. 2                          76\n",
       "Running Up That Hill (A Deal With God)    67\n",
       "Como Tudo Deve Ser                        63\n",
       "Nutshell                                  58\n",
       "                                          ..\n",
       "Role                                       1\n",
       "Rocky Mountain Way                         1\n",
       "Givin' It Up                               1\n",
       "Glad You Came                              1\n",
       "黄昏のBAY CITY                                1\n",
       "Length: 3379, dtype: int64"
      ]
     },
     "execution_count": 150,
     "metadata": {},
     "output_type": "execute_result"
    }
   ],
   "source": [
    "long_history_df.value_counts('trackName')"
   ]
  },
  {
   "attachments": {},
   "cell_type": "markdown",
   "metadata": {},
   "source": [
    "## Recent History"
   ]
  },
  {
   "cell_type": "code",
   "execution_count": 151,
   "metadata": {},
   "outputs": [],
   "source": [
    "recent_history_df = get_current_user_recently_played()"
   ]
  },
  {
   "cell_type": "code",
   "execution_count": null,
   "metadata": {},
   "outputs": [],
   "source": [
    "recent_history_df"
   ]
  },
  {
   "attachments": {},
   "cell_type": "markdown",
   "metadata": {},
   "source": [
    "## Saved Tracks"
   ]
  },
  {
   "cell_type": "code",
   "execution_count": 152,
   "metadata": {},
   "outputs": [],
   "source": [
    "saved_tracks_df = get_all_current_user_saved_tracks()\n",
    "# gets ~86 tracks per second"
   ]
  },
  {
   "cell_type": "code",
   "execution_count": 153,
   "metadata": {},
   "outputs": [
    {
     "name": "stdout",
     "output_type": "stream",
     "text": [
      "<class 'pandas.core.frame.DataFrame'>\n",
      "Int64Index: 1188 entries, 0 to 37\n",
      "Data columns (total 4 columns):\n",
      " #   Column       Non-Null Count  Dtype \n",
      "---  ------       --------------  ----- \n",
      " 0   Artist Name  1188 non-null   object\n",
      " 1   Artist ID    1188 non-null   object\n",
      " 2   Track Name   1188 non-null   object\n",
      " 3   Track ID     1188 non-null   object\n",
      "dtypes: object(4)\n",
      "memory usage: 46.4+ KB\n"
     ]
    }
   ],
   "source": [
    "saved_tracks_df.info()"
   ]
  },
  {
   "cell_type": "markdown",
   "metadata": {},
   "source": [
    "## Currently Playing"
   ]
  },
  {
   "cell_type": "code",
   "execution_count": 184,
   "metadata": {},
   "outputs": [],
   "source": [
    "currently_playing_df = get_currently_playing()"
   ]
  },
  {
   "cell_type": "code",
   "execution_count": 185,
   "metadata": {},
   "outputs": [
    {
     "data": {
      "text/html": [
       "<div>\n",
       "<style scoped>\n",
       "    .dataframe tbody tr th:only-of-type {\n",
       "        vertical-align: middle;\n",
       "    }\n",
       "\n",
       "    .dataframe tbody tr th {\n",
       "        vertical-align: top;\n",
       "    }\n",
       "\n",
       "    .dataframe thead th {\n",
       "        text-align: right;\n",
       "    }\n",
       "</style>\n",
       "<table border=\"1\" class=\"dataframe\">\n",
       "  <thead>\n",
       "    <tr style=\"text-align: right;\">\n",
       "      <th></th>\n",
       "      <th>Context Type</th>\n",
       "      <th>URI</th>\n",
       "      <th>Track Name</th>\n",
       "      <th>Track ID</th>\n",
       "      <th>Album Name</th>\n",
       "      <th>Album ID</th>\n",
       "      <th>Artist Names</th>\n",
       "      <th>Artist IDs</th>\n",
       "    </tr>\n",
       "  </thead>\n",
       "  <tbody>\n",
       "    <tr>\n",
       "      <th>0</th>\n",
       "      <td>artist</td>\n",
       "      <td>spotify:artist:1Xyo4u8uXC1ZmMpatF05PJ</td>\n",
       "      <td>Best Friends - Remix</td>\n",
       "      <td>6I5gj0D4OEScl48BPFR0J1</td>\n",
       "      <td>Dawn FM (Alternate World)</td>\n",
       "      <td>12INlMsFtBjyehNnawBv36</td>\n",
       "      <td>[The Weeknd, Summer Walker]</td>\n",
       "      <td>[1Xyo4u8uXC1ZmMpatF05PJ, 57LYzLEk2LcFghVwuWbcuS]</td>\n",
       "    </tr>\n",
       "  </tbody>\n",
       "</table>\n",
       "</div>"
      ],
      "text/plain": [
       "  Context Type                                    URI            Track Name  \\\n",
       "0       artist  spotify:artist:1Xyo4u8uXC1ZmMpatF05PJ  Best Friends - Remix   \n",
       "\n",
       "                 Track ID                 Album Name                Album ID  \\\n",
       "0  6I5gj0D4OEScl48BPFR0J1  Dawn FM (Alternate World)  12INlMsFtBjyehNnawBv36   \n",
       "\n",
       "                  Artist Names  \\\n",
       "0  [The Weeknd, Summer Walker]   \n",
       "\n",
       "                                         Artist IDs  \n",
       "0  [1Xyo4u8uXC1ZmMpatF05PJ, 57LYzLEk2LcFghVwuWbcuS]  "
      ]
     },
     "execution_count": 185,
     "metadata": {},
     "output_type": "execute_result"
    }
   ],
   "source": [
    "currently_playing_df"
   ]
  },
  {
   "attachments": {},
   "cell_type": "markdown",
   "metadata": {},
   "source": [
    "Steps:\n",
    "- 1 currently playing\n",
    "\n",
    "Always get:\n",
    "- saved\n",
    "- top tracks from artist\n",
    "- recently played\n",
    "- \n",
    "\n",
    "Context types:\n",
    "- collection (saved)\n",
    "  - get saved\n",
    "- playlist (playlist, radio, mix)\n",
    "  - get playlist\n",
    "- none (searching tool)\n",
    "  - get samples based purely on the current track\n",
    "- artist (artist page)\n",
    "  - get related artists and best tracks"
   ]
  }
 ],
 "metadata": {
  "kernelspec": {
   "display_name": "Python 3",
   "language": "python",
   "name": "python3"
  },
  "language_info": {
   "codemirror_mode": {
    "name": "ipython",
    "version": 3
   },
   "file_extension": ".py",
   "mimetype": "text/x-python",
   "name": "python",
   "nbconvert_exporter": "python",
   "pygments_lexer": "ipython3",
   "version": "3.11.3"
  },
  "orig_nbformat": 4
 },
 "nbformat": 4,
 "nbformat_minor": 2
}
