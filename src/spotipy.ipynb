{
 "cells": [
  {
   "cell_type": "code",
   "execution_count": 1,
   "metadata": {},
   "outputs": [],
   "source": [
    "import spotipy\n",
    "from spotipy.oauth2 import SpotifyOAuth\n",
    "import auth\n",
    "import pandas as pd"
   ]
  },
  {
   "cell_type": "code",
   "execution_count": 2,
   "metadata": {},
   "outputs": [],
   "source": [
    "scope = \"playlist-modify user-read-private user-read-recently-played user-library-read user-read-currently-playing\"\n",
    "\n",
    "sp = spotipy.Spotify(auth_manager=SpotifyOAuth(scope=scope, client_id=auth.CLIENT_ID, client_secret=auth.CLIENT_SECRET, redirect_uri=auth.REDIRECT_URI))"
   ]
  },
  {
   "cell_type": "code",
   "execution_count": 3,
   "metadata": {},
   "outputs": [],
   "source": [
    "def get_all_current_user_saved_tracks():\n",
    "    offset = 0\n",
    "    saved_tracks_group = []\n",
    "\n",
    "    while(True):\n",
    "        \n",
    "        saved_tracks = sp.current_user_saved_tracks(limit=50, offset=offset)\n",
    "        \n",
    "        if len(saved_tracks['items']) == 0:\n",
    "            break\n",
    "        \n",
    "        artist_names = []\n",
    "        artist_ids = []\n",
    "        track_names = []\n",
    "        track_ids = []\n",
    "\n",
    "        for item in saved_tracks[\"items\"]:\n",
    "            artist_name = item[\"track\"][\"artists\"][0][\"name\"]\n",
    "            artist_id = item[\"track\"][\"artists\"][0][\"id\"]\n",
    "            track_name = item[\"track\"][\"name\"]\n",
    "            track_id = item[\"track\"][\"id\"]\n",
    "\n",
    "            artist_names.append(artist_name)\n",
    "            artist_ids.append(artist_id)\n",
    "            track_names.append(track_name)\n",
    "            track_ids.append(track_id)\n",
    "\n",
    "        saved_tracks_group.append(pd.DataFrame({\n",
    "            \"Artist Name\": artist_names,\n",
    "            \"Artist ID\": artist_ids,\n",
    "            \"Track Name\": track_names,\n",
    "            \"Track ID\": track_ids\n",
    "        }))\n",
    "        offset += 50\n",
    "\n",
    "    saved_tracks_df = pd.concat(saved_tracks_group)\n",
    "\n",
    "    return saved_tracks_df"
   ]
  },
  {
   "cell_type": "code",
   "execution_count": 4,
   "metadata": {},
   "outputs": [],
   "source": [
    "\n",
    "def get_current_user_recently_played():\n",
    "    recently_played = sp.current_user_recently_played(limit=50)\n",
    "\n",
    "    artist_names = []\n",
    "    artist_ids = []\n",
    "    track_names = []\n",
    "    track_ids = []\n",
    "\n",
    "    for item in recently_played[\"items\"]:\n",
    "        artist_name = item[\"track\"][\"artists\"][0][\"name\"]\n",
    "        artist_id = item[\"track\"][\"artists\"][0][\"id\"]\n",
    "        track_name = item[\"track\"][\"name\"]\n",
    "        track_id = item[\"track\"][\"id\"]\n",
    "        \n",
    "        artist_names.append(artist_name)\n",
    "        artist_ids.append(artist_id)\n",
    "        track_names.append(track_name)\n",
    "        track_ids.append(track_id)\n",
    "\n",
    "    recently_played_df = pd.DataFrame({\n",
    "        \"Artist Name\": artist_names,\n",
    "        \"Artist ID\": artist_ids,\n",
    "        \"Track Name\": track_names,\n",
    "        \"Track ID\": track_ids\n",
    "    })\n",
    "\n",
    "    return recently_played_df"
   ]
  },
  {
   "cell_type": "code",
   "execution_count": 5,
   "metadata": {},
   "outputs": [],
   "source": [
    "def get_recommendation_genre_seeds():\n",
    "    genres_dict = sp.recommendation_genre_seeds()\n",
    "    genres_df = pd.DataFrame.from_dict(genres_dict)\n",
    "\n",
    "    return genres_df"
   ]
  },
  {
   "cell_type": "code",
   "execution_count": 42,
   "metadata": {},
   "outputs": [],
   "source": [
    "def get_currently_playing():\n",
    "    currently_playing = sp.current_user_playing_track()\n",
    "\n",
    "    if(currently_playing['context']):\n",
    "        context_type = currently_playing['context']['type']\n",
    "        uri = currently_playing['context']['uri']\n",
    "    else:\n",
    "        context_type = currently_playing['context']\n",
    "        uri = currently_playing['context']\n",
    "\n",
    "    track_name = currently_playing['item']['name']\n",
    "    track_id = currently_playing['item']['id']\n",
    "    album_name = currently_playing['item']['album']['name']\n",
    "    album_id = currently_playing['item']['album']['id']\n",
    "\n",
    "    artist_names = []\n",
    "    artist_ids = []\n",
    "\n",
    "    for artist in currently_playing['item']['artists']:\n",
    "        artist_name = artist['name']\n",
    "        artist_id = artist['id']\n",
    "        \n",
    "        artist_names.append(artist_name)\n",
    "        artist_ids.append(artist_id)\n",
    "\n",
    "    currently_playing_df = pd.DataFrame({\n",
    "        'Context Type': context_type,\n",
    "        'URI': uri,\n",
    "        'Track Name': track_name,\n",
    "        'Track ID': track_id,\n",
    "        'Album Name': album_name,\n",
    "        'Album ID': album_id,\n",
    "        'Artist Names': [artist_names],\n",
    "        'Artist IDs': [artist_ids]\n",
    "        })\n",
    "\n",
    "    return currently_playing_df"
   ]
  },
  {
   "cell_type": "code",
   "execution_count": null,
   "metadata": {},
   "outputs": [],
   "source": []
  }
 ],
 "metadata": {
  "kernelspec": {
   "display_name": "Python 3",
   "language": "python",
   "name": "python3"
  },
  "language_info": {
   "codemirror_mode": {
    "name": "ipython",
    "version": 3
   },
   "file_extension": ".py",
   "mimetype": "text/x-python",
   "name": "python",
   "nbconvert_exporter": "python",
   "pygments_lexer": "ipython3",
   "version": "3.11.3"
  },
  "orig_nbformat": 4
 },
 "nbformat": 4,
 "nbformat_minor": 2
}
